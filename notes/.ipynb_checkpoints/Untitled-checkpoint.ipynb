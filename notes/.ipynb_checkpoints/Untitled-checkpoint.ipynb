{
 "cells": [
  {
   "cell_type": "code",
   "execution_count": 1,
   "metadata": {
    "collapsed": true
   },
   "outputs": [],
   "source": [
    "from __future__ import print_function\n",
    "import torch"
   ]
  },
  {
   "cell_type": "code",
   "execution_count": 3,
   "metadata": {
    "collapsed": false
   },
   "outputs": [
    {
     "name": "stdout",
     "output_type": "stream",
     "text": [
      "tensor([[                                 0.0000,\n",
      "                                          0.0000,\n",
      "               -654847608700481908254965760.0000],\n",
      "        [                                 0.0000,\n",
      "         -405710708045017320182827431493632.0000,\n",
      "                                          0.0000],\n",
      "        [                                 0.0000,\n",
      "                                          0.0000,\n",
      "                                          0.0000],\n",
      "        [                                 0.0000,\n",
      "         -453844602137521297376523904352256.0000,\n",
      "                                          0.0000],\n",
      "        [-439010366646764585542407698776064.0000,\n",
      "                                          0.0000,\n",
      "               -665030211429169580746997760.0000]])\n"
     ]
    }
   ],
   "source": [
    "x = torch.empty(5, 3)\n",
    "print(x)"
   ]
  },
  {
   "cell_type": "code",
   "execution_count": 4,
   "metadata": {
    "collapsed": false
   },
   "outputs": [
    {
     "name": "stdout",
     "output_type": "stream",
     "text": [
      "tensor([[0.4482, 0.0196, 0.1131],\n",
      "        [0.4095, 0.2553, 0.5499],\n",
      "        [0.3263, 0.3233, 0.8145],\n",
      "        [0.0429, 0.1034, 0.5939],\n",
      "        [0.8096, 0.0853, 0.3248]])\n"
     ]
    }
   ],
   "source": [
    "x = torch.rand(5, 3)\n",
    "print(x)"
   ]
  },
  {
   "cell_type": "code",
   "execution_count": null,
   "metadata": {
    "collapsed": true
   },
   "outputs": [],
   "source": []
  }
 ],
 "metadata": {
  "kernelspec": {
   "display_name": "Python 3",
   "language": "python",
   "name": "python3"
  },
  "language_info": {
   "codemirror_mode": {
    "name": "ipython",
    "version": 3
   },
   "file_extension": ".py",
   "mimetype": "text/x-python",
   "name": "python",
   "nbconvert_exporter": "python",
   "pygments_lexer": "ipython3",
   "version": "3.5.2"
  }
 },
 "nbformat": 4,
 "nbformat_minor": 0
}
